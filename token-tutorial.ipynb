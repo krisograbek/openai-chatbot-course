{
 "cells": [
  {
   "cell_type": "markdown",
   "metadata": {},
   "source": [
    "## Introduction.\n",
    "\n",
    "In this notebook, you'll learn about tokens - a crucial concept tied directly to Large Language Models (LLMs).\n",
    "\n",
    "\n",
    "Here's what you will learn:\n",
    "- What is a token?\n",
    "- How to count tokens?\n",
    "- Why LLMs can't count letters?\n",
    "- Why do we use sub-words (not characters or words)?\n",
    "\n",
    "\n",
    "\n",
    "\n",
    "#ideas:\n",
    "- should I encode for gpt-4 and decode for gpt-4o (or vice versa)? "
   ]
  },
  {
   "cell_type": "markdown",
   "metadata": {},
   "source": [
    "### What is a token?\n",
    "\n",
    "A token is a chunk of text that Large Language Models read or generate.\n",
    "\n",
    "Here's key information about tokens:\n",
    "- Tokens are atomic units that represent our language.\n",
    "- Tokens allow LLMs to efficiently understand language.\n",
    "- Tokens are the smallest unit of text that AI models process.\n",
    "- Tokens don't have the defined length. Some are only 1 character long, others can be longer words.\n",
    "- Tokens can be: words, sub-words, punctuation marks or special symbols.\n",
    "- As a rule of thumb, a token corresponds to 3/4 of the word. So 100 tokens is roughly 75 words.\n"
   ]
  },
  {
   "cell_type": "markdown",
   "metadata": {},
   "source": [
    "## Why sub-words (not characters or words) for tokens?\n",
    "\n",
    "#TODO: \n",
    "- Explain tokens are turned into embeddings inside of LLMs, as they have a lookup table in which they get IDs (tokens). The embedding values are trainable and get updated during the training of the model.\n",
    "\n",
    "For tokens, we use sub-words. Here's an example:\n",
    "\n",
    "<img src=\"./images/Sub-wordExample.png\" alt=\"Sub word token\" width=\"500\" />\n",
    "\n",
    "\n",
    "People often ask:\n",
    "- \"Why not characters?\"\n",
    "- \"Why not entire words?\"\n",
    "\n",
    "Let me explain...\n",
    "\n",
    "### The Cons of character-based approach.\n",
    "1. **Too little information**. Each character in itself holds very little semantic meaning.\n",
    "2. **Longer sequences**. The more tokens we pass, the higher computational power required. Character tokens create overly long sequences, which makes them extremely inefficient.\n",
    "3. **Complex training**. It's hard to understand word meanings, context and relationships using only characters.\n",
    "\n",
    "\n",
    "### The Cons of full word-based approach.\n",
    "1. **Large Token Vocabulary**. When every unique word becomes a token, we and up with an enormous vocabulary. It's inefficient in memory and processing resources.\n",
    "2. **Out-of-Vocabulary (OOV) Words**. The model can't handle rare or new words.\n",
    "3. **Misspelling and variation problems**. It's impossible to add all variations or misspelled words into model's vocabulary. Look at the above image. We'd need a separate token for words like: unlearn, unfit, reworked, redesigning, deconstructed. But we can perfectly capture their meaning using 2 tokens.\n",
    "\n",
    "### How sub-words combine the best of both words?\n",
    "Sub-words combine the best of both words, while decreasing the limitaions of them.\n",
    "1. **Smaller vocabulary**. Sub-words reduce vocabulary by using smaller and reusable chunks of words.\n",
    "2. **Handling OOV words.** When a model \"sees\" a word for the first time it can break it down into smaller chunks. And the model knows the chunks already, so it can capture the meaning of the new word.\n",
    "3. **Balance between length and information.** Optimization methods find the best sub-word combinations for a language.\n",
    "\n",
    "\n",
    "In summary:\n",
    "- Character tokens are too small and carry too little information (lack of semantic meaning).\n",
    "- Word tokens are too large and create huge vocabularies.\n",
    "- Combine more efficient token vocabularies with semantic representation.\n",
    "\n",
    "Here are more examples on where sub-word tokens shine.\n",
    "\n",
    "<img src=\"./images/LongWords.png\" alt=\"long words\" width=\"500\" />\n"
   ]
  },
  {
   "cell_type": "markdown",
   "metadata": {},
   "source": [
    "## Code"
   ]
  },
  {
   "cell_type": "markdown",
   "metadata": {},
   "source": [
    "### Load the OpenAI API Key"
   ]
  },
  {
   "cell_type": "code",
   "execution_count": 1,
   "metadata": {},
   "outputs": [],
   "source": [
    "from dotenv import load_dotenv\n",
    "\n",
    "load_dotenv()\n",
    "\n",
    "import warnings\n",
    "warnings.filterwarnings('ignore')"
   ]
  },
  {
   "cell_type": "markdown",
   "metadata": {},
   "source": [
    "## Counting words, letters and tokens."
   ]
  },
  {
   "cell_type": "code",
   "execution_count": 18,
   "metadata": {},
   "outputs": [
    {
     "name": "stdout",
     "output_type": "stream",
     "text": [
      "The Amazon Rainforest is the largest tropical rainforest in the world, spanning over 5.5 million square kilometers. It is home to an incredible diversity of wildlife, including thousands of plant species, birds, mammals, and insects. The rainforest plays a crucial role in regulating the Earth's climate and is often referred to as the \"lungs of the planet\" due to its vast capacity for carbon dioxide absorption.\n"
     ]
    }
   ],
   "source": [
    "from openai import OpenAI\n",
    "\n",
    "client = OpenAI()\n",
    "\n",
    "am_completion = client.chat.completions.create(\n",
    "    model=\"gpt-4o-mini\",\n",
    "    messages=[\n",
    "        {\"role\": \"user\", \"content\": \"Write 3 short sentences about Amazon Rainforest\"}\n",
    "    ],\n",
    "    seed=42,\n",
    "    temperature=0.0\n",
    ")\n",
    "\n",
    "am_response = am_completion.choices[0].message.content\n",
    "print(am_response)"
   ]
  },
  {
   "cell_type": "markdown",
   "metadata": {},
   "source": [
    "Let's copy:\n",
    "\n",
    "\n",
    "```\n",
    "The Amazon Rainforest is the largest tropical rainforest in the world, spanning over 5.5 million square kilometers. It is home to an incredible diversity of wildlife, including thousands of plant species, birds, mammals, and insects. The rainforest plays a crucial role in regulating the Earth's climate and is often referred to as the \"lungs of the planet\" due to its vast capacity for carbon dioxide absorption.\n",
    "```"
   ]
  },
  {
   "cell_type": "markdown",
   "metadata": {},
   "source": [
    "Awesome! We've got a short description about The Amazon Rainforest."
   ]
  },
  {
   "cell_type": "markdown",
   "metadata": {},
   "source": [
    "### Counting words and characters.\n",
    "\n",
    "Let's count words and characters first. In Python it's quite simple:"
   ]
  },
  {
   "cell_type": "code",
   "execution_count": 19,
   "metadata": {},
   "outputs": [
    {
     "name": "stdout",
     "output_type": "stream",
     "text": [
      "The response has 66 words and 413 characters.\n"
     ]
    }
   ],
   "source": [
    "words_cnt = len(am_response.split())\n",
    "characters_cnt = len(am_response)\n",
    "\n",
    "print(f\"The response has {words_cnt} words and {characters_cnt} characters.\")"
   ]
  },
  {
   "cell_type": "markdown",
   "metadata": {},
   "source": [
    "OK, so our Amazon Rainforest description has 66 words and 413 characters.\n",
    "\n",
    "Note: Your description may be different. So if your results differ, don't freak out :)"
   ]
  },
  {
   "cell_type": "markdown",
   "metadata": {},
   "source": [
    "### Counting tokens"
   ]
  },
  {
   "cell_type": "code",
   "execution_count": 25,
   "metadata": {},
   "outputs": [
    {
     "name": "stdout",
     "output_type": "stream",
     "text": [
      "The response has 80 tokens.\n"
     ]
    }
   ],
   "source": [
    "import tiktoken\n",
    "\n",
    "enc = tiktoken.encoding_for_model(\"gpt-4o-mini\")\n",
    "tokens = enc.encode(am_response)\n",
    "\n",
    "print(f\"The response has {len(tokens)} tokens.\")"
   ]
  },
  {
   "cell_type": "markdown",
   "metadata": {},
   "source": [
    "Let's break the code down:\n",
    "- We imported the tiktoken library.\n",
    "- We defined the encoder using `encoding_for_model(\"gpt-4o-mini\")` to ensure we use the right encoder. \n",
    "- We \"tokenized\" the response using `encode(response)`.\n",
    "- We counted the tokens using Python's `len` function.\n",
    "\n",
    "Great!\n",
    "\n",
    "Let's take our sample text and run it through the [online tokenizer](https://tiktokenizer.vercel.app/).\n",
    "\n",
    "Here are the results:\n",
    "\n",
    "<img src=\"./images/AmazonDescTokens2.png\" alt=\"Amazon Description tokens\" width=\"500px\" />\n",
    "\n",
    "I love that visual representation. The app highlights every single token. It helps us see how they actually look like.\n",
    "\n",
    "Below, we can see the numerical representation of each token from the decription.\n",
    "\n",
    "Let's try to see, if the numbers match with the tokens from the `tiktoken` library:"
   ]
  },
  {
   "cell_type": "code",
   "execution_count": 26,
   "metadata": {},
   "outputs": [
    {
     "name": "stdout",
     "output_type": "stream",
     "text": [
      "[976, 9529, 33159, 76428, 382, 290, 10574, 40068, 164436, 306, 290, 2375, 11, 66335, 1072, 220, 20, 13, 20, 5749, 13749, 63677, 13, 1225, 382, 2237, 316, 448, 19201, 28955, 328, 40214, 11, 3463, 13369, 328, 6804, 15361, 11, 28510, 11, 119032, 11, 326, 65129, 13, 623, 164436, 17473, 261, 19008, 5430, 306, 101955, 290, 146677, 16721, 326, 382, 4783, 22653, 316, 472, 290, 392, 82576, 328, 290, 17921, 1, 5192, 316, 1617, 11332, 12241, 395, 15883, 70513, 57036, 13]\n"
     ]
    }
   ],
   "source": [
    "print(tokens)"
   ]
  },
  {
   "cell_type": "markdown",
   "metadata": {},
   "source": [
    "Just to be crystal clear. We now compare the tokens from code with the numbers from the last image. They are identical because we used the same text with the same encoder in both methods."
   ]
  },
  {
   "cell_type": "markdown",
   "metadata": {},
   "source": [
    "We'll count words, characters, and tokens later too.\n",
    "\n",
    "Let's write helper functions for counting and printing the results."
   ]
  },
  {
   "cell_type": "code",
   "execution_count": 42,
   "metadata": {},
   "outputs": [],
   "source": [
    "import tiktoken\n",
    "\n",
    "def count_words_and_chars(text):\n",
    "    words_cnt = len(text.split())\n",
    "    characters_cnt = len(text)\n",
    "\n",
    "    print(f\"The text has {words_cnt} words and {characters_cnt} characters.\")\n",
    "    \n",
    "def count_tokens(text):\n",
    "    enc = tiktoken.encoding_for_model(\"gpt-4o-mini\")\n",
    "    tokens = enc.encode(text)\n",
    "\n",
    "    print(f\"The response has {len(tokens)} tokens.\")"
   ]
  },
  {
   "cell_type": "markdown",
   "metadata": {},
   "source": [
    "### Asking GPT-4o Mini to count words, characters, and tokens.\n",
    "\n",
    "Let's ask GPT-4o Mini to count for us.\n",
    "\n",
    "As a reminder, the correct answers for our description are:\n",
    "- 66 words\n",
    "- 413 characters\n",
    "- 80 tokens\n",
    "\n",
    "Good luck, GPT-4o!\n",
    "\n",
    "**Counting Words**"
   ]
  },
  {
   "cell_type": "code",
   "execution_count": 21,
   "metadata": {},
   "outputs": [
    {
     "name": "stdout",
     "output_type": "stream",
     "text": [
      "The paragraph contains 63 words.\n"
     ]
    }
   ],
   "source": [
    "word_prompt = \"How many words is in the following paragraph: \" + am_response\n",
    "\n",
    "words = client.chat.completions.create(\n",
    "    model=\"gpt-4o-mini\",\n",
    "    messages=[{\"role\": \"user\", \"content\": word_prompt}],\n",
    "    temperature=0.0\n",
    ")\n",
    "\n",
    "word_response = words.choices[0].message.content\n",
    "print(word_response)"
   ]
  },
  {
   "cell_type": "markdown",
   "metadata": {},
   "source": [
    "**Counting Characters**"
   ]
  },
  {
   "cell_type": "code",
   "execution_count": 22,
   "metadata": {},
   "outputs": [
    {
     "name": "stdout",
     "output_type": "stream",
     "text": [
      "The paragraph you provided contains 469 characters, including spaces and punctuation.\n"
     ]
    }
   ],
   "source": [
    "character_prompt = \"How many characters is in the following paragraph: \" + am_response\n",
    "\n",
    "characters = client.chat.completions.create(\n",
    "    model=\"gpt-4o-mini\",\n",
    "    messages=[{\"role\": \"user\", \"content\": character_prompt}],\n",
    "    temperature=0.0\n",
    ")\n",
    "\n",
    "character_response = characters.choices[0].message.content\n",
    "print(character_response)"
   ]
  },
  {
   "cell_type": "markdown",
   "metadata": {},
   "source": [
    "Let's summarize:\n",
    "- The word count was close (63 instead of 66).\n",
    "- The character count was bad (469 instead of 413).\n",
    "\n",
    "\n",
    "What about tokens?"
   ]
  },
  {
   "cell_type": "markdown",
   "metadata": {},
   "source": [
    "**Counting tokens**"
   ]
  },
  {
   "cell_type": "code",
   "execution_count": 23,
   "metadata": {},
   "outputs": [
    {
     "name": "stdout",
     "output_type": "stream",
     "text": [
      "To determine the number of tokens in the provided paragraph, we can break it down into individual words and punctuation marks. In natural language processing, a token typically refers to a word or a punctuation mark.\n",
      "\n",
      "The paragraph you provided contains the following text:\n",
      "\n",
      "\"The Amazon Rainforest is the largest tropical rainforest in the world, spanning over 5.5 million square kilometers. It is home to an incredible diversity of wildlife, including thousands of plant species, birds, mammals, and insects. The rainforest plays a crucial role in regulating the Earth's climate and is often referred to as the 'lungs of the planet' due to its vast capacity for carbon dioxide absorption.\"\n",
      "\n",
      "Counting the tokens, we find:\n",
      "\n",
      "1. Words\n",
      "2. Punctuation marks (like commas, periods, and quotation marks)\n",
      "\n",
      "After counting, the total number of tokens in the paragraph is **102**.\n"
     ]
    }
   ],
   "source": [
    "token_prompt = \"How many tokens is in the following paragraph: \" + am_response\n",
    "\n",
    "tokens = client.chat.completions.create(\n",
    "    model=\"gpt-4o-mini\",\n",
    "    messages=[{\"role\": \"user\", \"content\": token_prompt}],\n",
    "    temperature=0.0\n",
    ")\n",
    "\n",
    "token_response = tokens.choices[0].message.content\n",
    "print(token_response)"
   ]
  },
  {
   "cell_type": "markdown",
   "metadata": {},
   "source": [
    "Ouch...\n",
    "\n",
    "102 instead of 80.\n",
    "\n",
    "But I appreciate the effort! We can see how hard GPT-4o Mini tried to give the correct answer."
   ]
  },
  {
   "cell_type": "markdown",
   "metadata": {},
   "source": [
    "### LLMs counting characters and words in simpler examples.\n",
    "\n",
    "I'll show you something interesting...\n",
    "\n",
    "I'll ask GPT-4o Mini to count words and characters in 2 sentences:\n",
    "1. \"This is a short sentence.\"\n",
    "2. \"This is a very short sentence.\"\n",
    "\n",
    "Let's see the results."
   ]
  },
  {
   "cell_type": "code",
   "execution_count": 29,
   "metadata": {},
   "outputs": [
    {
     "name": "stdout",
     "output_type": "stream",
     "text": [
      "The sentence \"This is a short sentence\" contains 30 characters (including spaces) and 6 words.\n"
     ]
    }
   ],
   "source": [
    "short_sentence = \"This is a short sentence\"\n",
    "counting_prompt = \"Count characters and words in the following sentence: \" + short_sentence\n",
    "\n",
    "char_cnt1 = client.chat.completions.create(\n",
    "    model=\"gpt-4o-mini\",\n",
    "    messages=[{\"role\": \"user\", \"content\": counting_prompt}],\n",
    "    temperature=0.0\n",
    ")\n",
    "\n",
    "char_response1 = char_cnt1.choices[0].message.content\n",
    "print(char_response1)"
   ]
  },
  {
   "cell_type": "code",
   "execution_count": 30,
   "metadata": {},
   "outputs": [
    {
     "name": "stdout",
     "output_type": "stream",
     "text": [
      "The sentence \"This is a very short sentence\" contains 30 characters (including spaces) and 7 words.\n"
     ]
    }
   ],
   "source": [
    "very_short_sentence = \"This is a very short sentence\"\n",
    "counting_prompt = \"Count characters and words in the following sentence: \" + very_short_sentence\n",
    "\n",
    "char_cnt2 = client.chat.completions.create(\n",
    "    model=\"gpt-4o-mini\",\n",
    "    messages=[{\"role\": \"user\", \"content\": counting_prompt}],\n",
    "    temperature=0.0\n",
    ")\n",
    "\n",
    "char_response2 = char_cnt2.choices[0].message.content\n",
    "print(char_response2)"
   ]
  },
  {
   "cell_type": "markdown",
   "metadata": {},
   "source": [
    "Look, I've added an entire word, \"very,\" to the second example. But for GPT-4o Mini, both sentences have the same number of characters.\n",
    "\n",
    "Weird...\n",
    "\n",
    "Let's see the responses next to each other."
   ]
  },
  {
   "cell_type": "code",
   "execution_count": 31,
   "metadata": {},
   "outputs": [
    {
     "name": "stdout",
     "output_type": "stream",
     "text": [
      "The sentence \"This is a short sentence\" contains 30 characters (including spaces) and 6 words.\n",
      "The sentence \"This is a very short sentence\" contains 30 characters (including spaces) and 7 words.\n"
     ]
    }
   ],
   "source": [
    "print(char_response1)\n",
    "print(char_response2)"
   ]
  },
  {
   "cell_type": "markdown",
   "metadata": {},
   "source": [
    "### Counting with GPT-4o.\n",
    "\n",
    "Let's do some more tests. This time we'll use GPT-4o, which is the more powerful model"
   ]
  },
  {
   "cell_type": "code",
   "execution_count": 32,
   "metadata": {},
   "outputs": [
    {
     "name": "stdout",
     "output_type": "stream",
     "text": [
      "Sure! Let's break it down:\n",
      "\n",
      "**Sentence:** \"This is a very short sentence\"\n",
      "\n",
      "**Character Count:**\n",
      "- Total characters (including spaces): 27\n",
      "- Total characters (excluding spaces): 22\n",
      "\n",
      "**Word Count:**\n",
      "- Total words: 6\n",
      "\n",
      "So, the sentence \"This is a very short sentence\" has 27 characters (including spaces), 22 characters (excluding spaces), and 6 words.\n"
     ]
    }
   ],
   "source": [
    "very_short_sentence = \"This is a very short sentence\"\n",
    "counting_prompt = \"Count characters and words in the following sentence: \" + very_short_sentence\n",
    "\n",
    "char_cnt3 = client.chat.completions.create(\n",
    "    model=\"gpt-4o\",\n",
    "    messages=[{\"role\": \"user\", \"content\": counting_prompt}],\n",
    "    temperature=0.0\n",
    ")\n",
    "\n",
    "char_response3 = char_cnt3.choices[0].message.content\n",
    "print(char_response3)"
   ]
  },
  {
   "cell_type": "code",
   "execution_count": 33,
   "metadata": {},
   "outputs": [
    {
     "name": "stdout",
     "output_type": "stream",
     "text": [
      "Sure! Let's break it down:\n",
      "\n",
      "**Sentence:** \"This is a short sentence\"\n",
      "\n",
      "1. **Character Count:**\n",
      "   - Total characters including spaces: 24\n",
      "   - Total characters excluding spaces: 21\n",
      "\n",
      "2. **Word Count:**\n",
      "   - Total words: 5\n",
      "\n",
      "So, the sentence \"This is a short sentence\" has 24 characters including spaces, 21 characters excluding spaces, and 5 words.\n"
     ]
    }
   ],
   "source": [
    "counting_prompt = \"Count characters and words in the following sentence: \" + short_sentence\n",
    "\n",
    "char_cnt4 = client.chat.completions.create(\n",
    "    model=\"gpt-4o\",\n",
    "    messages=[{\"role\": \"user\", \"content\": counting_prompt}],\n",
    "    temperature=0.0\n",
    ")\n",
    "\n",
    "char_response4 = char_cnt4.choices[0].message.content\n",
    "print(char_response4)"
   ]
  },
  {
   "cell_type": "code",
   "execution_count": 34,
   "metadata": {},
   "outputs": [
    {
     "name": "stdout",
     "output_type": "stream",
     "text": [
      "'This is a very short sentence' contains 29 characters and 6 words.\n"
     ]
    }
   ],
   "source": [
    "total_characters2 = len(very_short_sentence)\n",
    "total_words2 = len(very_short_sentence.split())\n",
    "total_characters_no_spaces2 = len(very_short_sentence.replace(\" \", \"\"))\n",
    "\n",
    "\n",
    "print(f\"'{very_short_sentence}' contains {total_characters2} characters and {total_words2} words.\")"
   ]
  },
  {
   "cell_type": "markdown",
   "metadata": {},
   "source": [
    "### Why counting tokens?\n",
    "\n",
    "When creating AI applications, it's crucial to manage (and count) tokens for several reasons:\n",
    "1. **Cost management** - Tokens directly influence the cost of API usage.\n",
    "2. **Billing accuracy** - Token counting enables accurate usage-based billing for customers.\n",
    "3. **Performance optimization** - The number of tokens affects model performance. Monitoring token usage helps optimize prompts.\n",
    "4. **Customer transparency** - Providing real-time token usage data to customers through dashboards helps them control their spending and avoid unexpected costs.\n",
    "5. **Product optimization** - Analyzing token usage patterns can provide insights into how customers are using the AI product, informing future improvements and feature development.\n",
    "6. **Compliance and security**-  Monitoring token usage can help detect unusual patterns that might indicate security issues.\n",
    "7. **Profitability analysis** - By attributing token usage to specific customers or features, companies endure profitability."
   ]
  },
  {
   "cell_type": "markdown",
   "metadata": {},
   "source": [
    "## Tokens for non-english languages.\n",
    "\n",
    "I want to show you how the tokens work for other languages. I'll play with Polish and German translations, because I speak both languages.\n",
    "\n",
    "### Polish Translation\n",
    "\n",
    "Let's start by asking GPT-4o Mini to translate the Amazon Rainforest description into Polish."
   ]
  },
  {
   "cell_type": "code",
   "execution_count": 36,
   "metadata": {},
   "outputs": [
    {
     "name": "stdout",
     "output_type": "stream",
     "text": [
      "Amazonia jest największym tropikalnym lasem deszczowym na świecie, zajmującym ponad 5,5 miliona kilometrów kwadratowych. Jest domem dla niesamowitej różnorodności dzikiej przyrody, w tym tysięcy gatunków roślin, ptaków, ssaków i owadów. Las deszczowy odgrywa kluczową rolę w regulacji klimatu Ziemi i często nazywany jest \"płucami planety\" ze względu na swoją ogromną zdolność do absorpcji dwutlenku węgla.\n"
     ]
    }
   ],
   "source": [
    "pl_prompt = \"Translate to Polish the following: \" + am_response\n",
    "\n",
    "polish = client.chat.completions.create(\n",
    "    model=\"gpt-4o-mini\",\n",
    "    messages=[\n",
    "        {\"role\": \"user\", \"content\": pl_prompt}\n",
    "    ],\n",
    "    temperature=0.0\n",
    ")\n",
    "\n",
    "pl_translation = polish.choices[0].message.content\n",
    "print(pl_translation)"
   ]
  },
  {
   "cell_type": "markdown",
   "metadata": {},
   "source": [
    "Cool, we've got the polish translation. Let's count words and characters:"
   ]
  },
  {
   "cell_type": "code",
   "execution_count": 39,
   "metadata": {},
   "outputs": [
    {
     "name": "stdout",
     "output_type": "stream",
     "text": [
      "The text has 55 words and 406 characters.\n"
     ]
    }
   ],
   "source": [
    "count_words_and_chars(pl_translation)"
   ]
  },
  {
   "cell_type": "markdown",
   "metadata": {},
   "source": [
    "As a reminder, here are the numbers for the original description."
   ]
  },
  {
   "cell_type": "code",
   "execution_count": 41,
   "metadata": {},
   "outputs": [
    {
     "name": "stdout",
     "output_type": "stream",
     "text": [
      "The text has 66 words and 413 characters.\n"
     ]
    }
   ],
   "source": [
    "count_words_and_chars(am_response)"
   ]
  },
  {
   "cell_type": "markdown",
   "metadata": {},
   "source": [
    "Awesome!\n",
    "\n",
    "So the polish translation is slightly shorter in words and characters.\n",
    "\n",
    "What about tokens?\n",
    "\n",
    "Let me show you the tokens from tiktokenizer again.\n",
    "\n",
    "<img src=\"./images/AmazonDescPL.png\" alt=\"Amazon Description tokens\" width=\"500px\" />\n",
    "\n",
    "The Polish translation has 132 tokens, the English has 80 tokens.\n",
    "\n",
    "What a huge difference!"
   ]
  },
  {
   "cell_type": "markdown",
   "metadata": {},
   "source": [
    "### Comparing token \"efficiency\"\n",
    "\n",
    "At the beginning I said: \"As a rule of thumb, a token corresponds to 3/4 of the word. So 100 tokens is roughly 75 words.\"\n",
    "\n",
    "Now, let's do some math to test the statement.\n",
    "\n",
    "- For English: 66 (words) / 80 (tokens) = 0.825 -> 82 words per 100 tokens.\n",
    "- For Polish: 55 (words) / 132 (tokens) ≈ 0.42 -> 42 words per 100 tokens.\n",
    "\n",
    "So the tokens for English language are 2 times more efficient compared to Polish.\n",
    "\n",
    "Here are the main reasons:\n",
    "- LLMs are trained mainly on English text. During training, they haven't \"seen\" enough Polish\n",
    "- Polish has special characters unknown in other languages. Examples: ą, ę, ó, ł, ć, ż.\n",
    "- Words in Polish have various endings. Meaning, we write the same noun in a dozen different ways.\n",
    "\n",
    "Here are the consequences:\n",
    "- English tokens are more \"efficient\".\n",
    "- LLMs tend to make more grammatical mistakes in Polish.\n",
    "- Using LLMs with polish language is more expensive (since we pay for the token usage, not word usage)."
   ]
  },
  {
   "cell_type": "markdown",
   "metadata": {},
   "source": [
    "### German Translation\n",
    "\n",
    "Let's do the same but for German Language."
   ]
  },
  {
   "cell_type": "code",
   "execution_count": 45,
   "metadata": {},
   "outputs": [
    {
     "name": "stdout",
     "output_type": "stream",
     "text": [
      "Der Amazonas-Regenwald ist der größte tropische Regenwald der Welt und erstreckt sich über mehr als 5,5 Millionen Quadratkilometer. Er beherbergt eine unglaubliche Vielfalt an Wildtieren, darunter Tausende von Pflanzenarten, Vögeln, Säugetieren und Insekten. Der Regenwald spielt eine entscheidende Rolle bei der Regulierung des Klimas der Erde und wird oft als die \"Lungen des Planeten\" bezeichnet, aufgrund seiner enormen Fähigkeit zur Kohlenstoffdioxidabsorption.\n"
     ]
    }
   ],
   "source": [
    "de_prompt = \"Translate to German the following: \" + am_response\n",
    "\n",
    "german = client.chat.completions.create(\n",
    "    model=\"gpt-4o-mini\",\n",
    "    messages=[\n",
    "        {\"role\": \"user\", \"content\": de_prompt}\n",
    "    ],\n",
    "    temperature=0.0\n",
    ")\n",
    "\n",
    "de_translation = german.choices[0].message.content\n",
    "print(de_translation)"
   ]
  },
  {
   "cell_type": "markdown",
   "metadata": {},
   "source": [
    "Again, let's count words, characters, and tokens."
   ]
  },
  {
   "cell_type": "code",
   "execution_count": 46,
   "metadata": {},
   "outputs": [
    {
     "name": "stdout",
     "output_type": "stream",
     "text": [
      "The text has 61 words and 466 characters.\n"
     ]
    }
   ],
   "source": [
    "count_words_and_chars(de_translation)"
   ]
  },
  {
   "cell_type": "markdown",
   "metadata": {},
   "source": [
    "Compared to English, the German translation is close in words but has around 50 more characters..\n",
    "\n",
    "What about tokens?\n",
    "\n",
    "Let me show you the tokens from tiktokenizer again.\n",
    "\n",
    "<img src=\"./images/AmazonDescDE.png\" alt=\"Amazon Description tokens\" width=\"500px\" />\n",
    "\n",
    "The German translation has 109 tokens.\n",
    "\n",
    "So it's almost in the middle between Polish and English.\n",
    "\n",
    "Let's confirm the token number using our function:"
   ]
  },
  {
   "cell_type": "code",
   "execution_count": 47,
   "metadata": {},
   "outputs": [
    {
     "name": "stdout",
     "output_type": "stream",
     "text": [
      "The response has 109 tokens.\n"
     ]
    }
   ],
   "source": [
    "count_tokens(de_translation)"
   ]
  },
  {
   "cell_type": "markdown",
   "metadata": {},
   "source": [
    "Let's do some math for German too:\n",
    "\n",
    "- 61 (words) / 109 (tokens) ≈ 0.56 -> 56 words per 100 tokens.\n",
    "\n",
    "When it comes to token efficiency: English > German > Polish\n",
    "\n",
    "Here's why German is in the middle ground:\n",
    "- There's much more German than Polish training text.\n",
    "- German words have fewer variations compared to Polish.\n",
    "\n",
    "I believe this breakdown helped you understand tokens better."
   ]
  },
  {
   "cell_type": "markdown",
   "metadata": {},
   "source": [
    "### Counting 'r' in 'strawberry'\n",
    "\n",
    "People believe there's a \"bug\" in ChatGPT.\n",
    "\n",
    "They realized ChatGPT struggles with questions for 1st graders.\n",
    "\n",
    "One example went viral in the internet: How many R's are there in 'strawberry?'\n",
    "\n",
    "ChatGPT answers with 2, which is obviously incorrect.\n",
    "\n",
    "But I already showed you that GPT models can't count characters in short sentences. So you shouldn't be surprised they struggle with specific letters in a word.\n",
    "\n",
    "I'll do my best to explain why this \"bug\" exists.\n",
    "\n",
    "Let's run the example using GPT-4o and GPT-4o Mini."
   ]
  },
  {
   "cell_type": "code",
   "execution_count": 5,
   "metadata": {},
   "outputs": [
    {
     "name": "stdout",
     "output_type": "stream",
     "text": [
      "The word \"strawberry\" contains two R's.\n"
     ]
    }
   ],
   "source": [
    "from openai import OpenAI\n",
    "\n",
    "client = OpenAI()\n",
    "\n",
    "strawberry_prompt = \"How many R's are there in the word strawberry?\"\n",
    "\n",
    "strawberry = client.chat.completions.create(\n",
    "    model=\"gpt-4o\",\n",
    "    messages=[\n",
    "        {\"role\": \"user\", \"content\": strawberry_prompt}\n",
    "    ],\n",
    "    seed=42\n",
    ")\n",
    "\n",
    "strawberry_resp = strawberry.choices[0].message.content\n",
    "print(strawberry_resp)"
   ]
  },
  {
   "cell_type": "code",
   "execution_count": 6,
   "metadata": {},
   "outputs": [
    {
     "name": "stdout",
     "output_type": "stream",
     "text": [
      "There are three R's in the word \"strawberry.\"\n"
     ]
    }
   ],
   "source": [
    "strawberry_mini = client.chat.completions.create(\n",
    "    model=\"gpt-4o-mini\",\n",
    "    messages=[\n",
    "        {\"role\": \"user\", \"content\": strawberry_prompt}\n",
    "    ],\n",
    "    seed=42\n",
    ")\n",
    "\n",
    "strawberry_resp_mini = strawberry_mini.choices[0].message.content\n",
    "print(strawberry_resp_mini)"
   ]
  },
  {
   "cell_type": "markdown",
   "metadata": {},
   "source": [
    "Both models failed.\n",
    "\n",
    "But it shouldn't surprise us.\n",
    "\n",
    "The models are trained to capture the semantic meaning of specific tokens.\n",
    "\n",
    "But they have no idea about the text representation of the tokens. \n",
    "\n",
    "LLMs don't know which and how many letters we use to write something down.\n",
    "\n",
    "Large Language Models never see text!\n",
    "\n",
    "Here's all they see"
   ]
  },
  {
   "cell_type": "code",
   "execution_count": 7,
   "metadata": {},
   "outputs": [
    {
     "name": "stdout",
     "output_type": "stream",
     "text": [
      "[5299, 1991, 460, 885, 553, 1354, 306, 290, 2195, 101830, 30]\n"
     ]
    }
   ],
   "source": [
    "import tiktoken\n",
    "\n",
    "enc = tiktoken.encoding_for_model(\"gpt-4o-mini\")\n",
    "tokens = enc.encode(strawberry_prompt)\n",
    "\n",
    "print(tokens)"
   ]
  },
  {
   "cell_type": "markdown",
   "metadata": {},
   "source": [
    "These tokens are all that GPT models receive.\n",
    "LLMs see only numbers, never text.\n",
    "\n",
    "<img src=\"./images/StrawberryTokens.png\" alt=\"strawberry tokens\" width=\"500\" />\n",
    "\n",
    "When the task is to count r's in strawberry, every human will see: stRawbeRRy...\n",
    "\n",
    "But what will GPT-4o (Mini) see?"
   ]
  },
  {
   "cell_type": "code",
   "execution_count": 8,
   "metadata": {},
   "outputs": [
    {
     "data": {
      "text/plain": [
       "[101830]"
      ]
     },
     "execution_count": 8,
     "metadata": {},
     "output_type": "execute_result"
    }
   ],
   "source": [
    "token_strawberry = enc.encode(\" strawberry\")\n",
    "token_strawberry"
   ]
  },
  {
   "cell_type": "markdown",
   "metadata": {},
   "source": [
    "GPT-4o sees 101830...\n",
    "\n",
    "Later, the token will be converted into embeddings (long vectors). I'll show you how to do that using the BERT model.\n",
    "\n",
    "*Important: ChatGPT sometimes gets it right. Look:*\n",
    "\n",
    "<img src=\"./images/ChatGPTRnW.png\" alt=\"ChatGPTScreen\" width=\"500\" />\n",
    "\n",
    "*But it's not because it learned how to count letters.  It's because it's \"memorizing\" the correct answer for this specific question.*"
   ]
  },
  {
   "cell_type": "markdown",
   "metadata": {},
   "source": [
    "## Token Embeddings\n",
    "\n",
    "LLMs receive a list of tokens.\n",
    "\n",
    "But token numbers are just IDs. There's no meaning in IDs.\n",
    "\n",
    "To get the meaning, we need to turn tokens into vector embeddings.\n",
    "\n",
    "But it happens inside of the Large Language Models.\n",
    "\n",
    "I will not describe it in detail, but here's the crucial information:\n",
    "- LLMs have a so-called lookup table to match token IDs with token embeddings\n",
    "\n",
    "TODO:\n",
    "- Add More crucial parts\n",
    "\n",
    "Now, we don't have access to any parameters inside of GPT-4 models, so I can't show you the token embeddings for them.\n",
    "\n",
    "Luckily, we can look inside of open-source models. So let me use the BERT model, to show you the embeddings."
   ]
  },
  {
   "cell_type": "markdown",
   "metadata": {},
   "source": [
    "### BERT Tokenizer"
   ]
  },
  {
   "cell_type": "code",
   "execution_count": 9,
   "metadata": {},
   "outputs": [
    {
     "name": "stdout",
     "output_type": "stream",
     "text": [
      "Token IDs: [16876]\n",
      "Raw tokens: ['strawberry']\n",
      "Embeddings:  tensor([[[-3.3221e-01, -1.1379e-01,  6.3999e-01,  4.4558e-02,  8.5353e-01,\n",
      "          -1.0420e+00,  1.7256e-01,  1.3457e+00,  5.5995e-01, -1.2306e+00,\n",
      "          -5.1320e-01,  2.5210e-01,  4.0262e-01,  8.1291e-01,  5.0603e-01,\n",
      "           9.7134e-01,  9.0365e-01, -3.1671e-01,  6.7425e-01, -5.6464e-01,\n",
      "           1.4367e-02, -1.2115e+00,  6.2926e-01,  8.6622e-01,  3.9439e-01,\n",
      "          -7.5562e-01,  2.4293e-01,  1.3749e+00, -4.9834e-02, -6.1821e-01,\n",
      "           6.7629e-01,  6.8283e-01, -3.7158e-02, -5.1446e-01, -2.2129e-01,\n",
      "          -2.4259e-01,  4.8178e-01, -4.1513e-01, -9.6942e-02,  2.5983e-01,\n",
      "          -2.6149e-01, -1.2349e+00,  3.9370e-01, -3.9585e-01,  5.9276e-01,\n",
      "          -1.3480e+00,  7.9733e-01, -7.4270e-01,  2.7541e-01, -2.9690e-01,\n",
      "           3.8766e-01,  4.0981e-01,  6.3202e-01, -1.1531e-01, -1.0502e-01,\n",
      "           1.1383e+00, -7.5819e-01,  1.4561e-01, -1.3112e-01, -3.9437e-01,\n",
      "           8.6423e-01, -3.8500e-01,  6.1859e-01, -3.7809e-01,  1.1450e+00,\n",
      "          -2.9781e-01, -2.8097e-01,  5.0258e-01, -1.4346e+00, -1.4834e+00,\n",
      "          -2.7763e-01, -3.2774e-01, -1.5241e-01, -1.3897e-01, -1.3562e-01,\n",
      "           9.7853e-01, -6.7573e-01,  1.8462e-01,  3.7460e-02, -1.0651e-01,\n",
      "          -1.2273e+00, -3.5005e-02, -3.6387e-01,  1.0920e+00, -1.6677e-01,\n",
      "           4.1718e-01,  2.9520e-01,  1.3070e-01,  2.9190e-01,  5.7404e-01,\n",
      "          -8.3893e-01, -3.5053e-01,  6.5509e-01, -4.4443e-01,  9.3789e-04,\n",
      "           1.0292e-01,  8.2502e-01,  1.5587e-01, -3.7800e-01, -9.3456e-02,\n",
      "           2.6959e-01,  6.2248e-01, -1.5730e-01, -8.7204e-01,  2.6026e-02,\n",
      "           8.9761e-01, -2.2076e-01, -5.9040e-01,  8.0955e-01, -2.6507e-01,\n",
      "          -3.6595e-01,  4.5304e-01, -5.3636e-01, -8.3644e-03, -3.0497e-01,\n",
      "          -1.2213e-01,  2.7210e-01,  2.5294e-01, -1.4766e-01,  4.7913e-01,\n",
      "           6.0636e-01, -3.6022e-01,  4.7392e-01,  8.0520e-01,  3.9380e-01,\n",
      "           1.6550e-01, -2.4236e-01,  7.1916e-01, -6.4604e-02,  5.1444e-01,\n",
      "           1.1683e+00,  5.1132e-01,  4.5736e-01, -5.3984e-01, -9.5827e-01,\n",
      "           2.9428e-01, -6.9932e-01, -6.2688e-01,  3.5654e-01,  6.6658e-01,\n",
      "           3.0592e-01, -4.6462e-01, -1.5717e-01, -1.3113e+00, -6.8506e-01,\n",
      "          -6.8814e-01, -4.2627e-02, -2.7825e-01, -1.2454e+00, -3.6210e-01,\n",
      "          -9.1731e-03, -6.2063e-01, -1.2781e+00, -1.6114e-01,  3.6728e-01,\n",
      "           3.1354e-01, -4.9435e-01,  1.9476e-01, -5.4852e-01,  3.0300e-01,\n",
      "           2.6963e-01,  2.5958e-01, -1.7569e-01,  4.0561e-01, -1.3688e-01,\n",
      "           3.8284e-01, -2.5492e-01,  1.1089e+00, -4.6599e-01, -5.4988e-01,\n",
      "          -7.5266e-02, -3.6681e-01,  3.5697e-01,  1.5185e-01, -7.4896e-02,\n",
      "          -2.1505e-01,  2.5843e-01, -5.9730e-01, -4.5242e-01, -2.6701e-01,\n",
      "          -5.6305e-01, -6.6137e-02, -1.0801e+00,  4.1402e-01,  5.9116e-01,\n",
      "          -8.0639e-01, -5.5227e-01,  4.1513e-01, -2.3310e-02,  7.8225e-01,\n",
      "          -7.1453e-01, -9.0697e-02, -1.0017e+00, -5.4428e-02, -1.6917e-01,\n",
      "           1.7047e-01, -2.8217e-01,  5.6740e-01, -4.9953e-01, -5.8384e-01,\n",
      "           3.7391e-01,  1.3007e+00,  4.2244e-01,  6.9460e-01, -1.1783e+00,\n",
      "           3.2011e-01,  7.5086e-01, -8.7784e-01, -8.2231e-02, -4.4795e-01,\n",
      "          -1.6999e-01,  1.7845e-01, -1.6417e-01,  1.1813e-02,  7.6944e-01,\n",
      "          -1.0022e+00, -5.6867e-01, -4.4455e-01,  6.1733e-01, -6.0666e-02,\n",
      "          -6.6338e-01, -6.0095e-02, -6.0139e-01, -3.4701e-01, -1.3284e-02,\n",
      "           2.7133e-02, -9.4815e-01,  4.9277e-01, -6.7575e-01,  2.0102e-01,\n",
      "           3.6285e-02, -1.7439e+00,  8.4895e-01, -1.7086e-01, -1.0283e+00,\n",
      "           6.8701e-01, -8.1907e-01,  1.0971e-01,  2.3293e-01,  2.7631e-02,\n",
      "           4.2398e-01,  4.2686e-01, -7.4284e-01, -2.9256e-01,  9.1537e-01,\n",
      "           3.4523e-01, -8.2646e-01, -3.0962e-01, -1.9251e-02, -1.7670e-01,\n",
      "          -2.9117e-01,  7.0159e-01, -4.6475e-01, -4.9819e-01,  4.6216e-01,\n",
      "          -2.4554e-01,  9.6515e-02,  1.5060e-01,  4.0335e-01,  9.0692e-01,\n",
      "           2.1846e-01,  6.5710e-01,  3.7019e-01,  5.5840e-01, -7.0773e-01,\n",
      "          -5.4666e-01, -8.2935e-01,  9.6765e-02, -8.2105e-01,  1.1939e+00,\n",
      "           5.1313e-01, -5.6323e-02,  2.2455e-01,  1.6905e+00, -3.3358e-01,\n",
      "          -6.1830e-01,  4.0523e-01, -1.6464e-01, -7.8036e-01, -5.4657e-01,\n",
      "          -4.3028e-01, -3.1203e-01,  2.8243e-01,  4.5320e-01,  4.6202e-01,\n",
      "          -4.0480e-01, -2.5299e-01,  1.2258e-01,  5.6684e-02, -7.9873e-01,\n",
      "          -7.8611e-02, -4.7781e-01,  3.3649e-01,  2.1813e-01, -3.1692e-01,\n",
      "          -4.4799e-01, -2.6157e-01,  4.4090e-01,  1.5435e-01,  8.6129e-01,\n",
      "          -1.3232e+00,  5.0228e-01,  8.9222e-01, -1.9233e-01,  2.9331e-01,\n",
      "           3.0572e-01,  7.3085e-02,  4.1121e-01, -2.6145e+00, -4.7406e-01,\n",
      "          -4.7881e-01,  1.4501e-01, -3.5790e-01,  7.3876e-01, -5.7652e-01,\n",
      "          -8.1143e-01, -8.4830e-01,  4.3520e-02, -5.6160e-02, -1.0758e-01,\n",
      "           1.1045e+00, -1.5730e-01, -2.1885e-03, -7.2117e-01, -1.0316e+00,\n",
      "          -1.4077e+00, -1.9780e-01, -1.1464e-01, -1.3295e+00, -1.1740e+00,\n",
      "           3.5551e-01, -4.4445e-01,  1.6746e-02,  1.2414e-01,  1.6960e-01,\n",
      "           1.5805e-01, -2.0148e-01,  1.3319e-01, -1.9488e-01, -1.6750e-01,\n",
      "          -1.9452e-01,  6.6191e-01,  1.1663e+00, -2.6948e-01, -5.6123e-02,\n",
      "          -9.0492e-01,  7.3633e-01, -5.1096e-01, -3.5062e-01, -1.0857e+00,\n",
      "          -8.0809e-02, -2.0084e-01,  7.8553e-01, -1.7708e-01, -7.3914e-02,\n",
      "           7.7365e-01, -4.3426e-01,  9.2404e-01,  4.7422e-02, -5.8241e-01,\n",
      "           4.6679e-01, -9.8715e-01,  1.1922e-01,  3.4771e-01,  1.0147e+00,\n",
      "          -4.4976e-01, -1.4072e-01, -9.0065e-01,  2.3603e-01, -1.0812e-01,\n",
      "          -2.4238e-01,  1.1767e+00,  3.4788e-03, -1.0155e+00, -3.9745e-01,\n",
      "           1.4005e+00,  2.1430e-01,  5.5083e-01, -1.3198e-01, -5.6108e-01,\n",
      "          -5.6962e-01, -6.8236e-01, -7.2806e-01, -9.3339e-01, -2.4544e-01,\n",
      "          -4.5542e-02, -5.7774e-01, -3.3243e-01,  4.3152e-01, -7.0757e-01,\n",
      "          -5.4857e-02,  1.0415e-01,  3.8935e-01, -2.0057e-01,  2.8922e-01,\n",
      "          -3.6762e-01, -6.2927e-01, -1.0869e-01, -4.0231e-01,  3.1368e-01,\n",
      "          -2.7082e-02, -9.3048e-01, -8.7987e-01,  2.2815e-01,  1.3090e+00,\n",
      "           1.4241e+00,  5.2328e-01, -5.5434e-01,  3.6720e-01, -5.0140e-01,\n",
      "           5.8064e-01,  1.6144e-01,  2.8554e-02,  5.4315e-01,  4.6235e-01,\n",
      "          -1.4850e-01, -4.9760e-01,  6.3865e-01,  2.0083e-01, -3.3868e-02,\n",
      "           5.9226e-01, -1.1216e-01,  6.1376e-01, -2.3321e-01, -7.8613e-02,\n",
      "           1.7486e-01,  2.2106e-01, -1.6568e-01,  5.3234e-01, -2.1970e-01,\n",
      "          -8.3788e-02, -1.5555e-01,  1.9629e-01,  1.3066e-01, -4.6027e-02,\n",
      "           7.9136e-02,  1.6560e-01, -8.3707e-01,  4.3485e-02,  3.3894e-01,\n",
      "           1.7929e-01, -3.0690e-01,  3.3082e-01,  3.3562e-01, -8.1920e-01,\n",
      "          -1.8729e+00, -6.4004e-01, -5.5357e-02,  1.1987e+00,  2.4210e-01,\n",
      "          -7.8686e-01,  2.4756e-01, -3.0649e-01,  4.7676e-01, -1.2393e+00,\n",
      "           4.7109e-01, -1.0067e+00,  9.3964e-01, -1.3441e+00, -3.3128e-01,\n",
      "           6.3538e-01, -1.0952e+00,  6.8923e-01,  5.8867e-01,  2.0093e-01,\n",
      "          -1.0137e+00,  5.6822e-01, -7.3103e-01,  1.0681e-01, -3.2460e-02,\n",
      "          -1.2387e-01, -5.2970e-02, -7.6319e-01,  5.9716e-01, -2.6891e-01,\n",
      "           3.5112e-01, -1.3202e-01,  5.1992e-01, -1.8808e-01, -1.6072e-01,\n",
      "          -8.9474e-01, -1.1512e-01,  5.9534e-01,  4.3322e-01, -1.1671e+00,\n",
      "          -1.0555e+00,  9.9758e-01,  1.8158e-01, -2.7092e-01,  2.8131e-01,\n",
      "          -1.5776e-01,  3.6353e-01,  2.9650e-01,  8.7243e-01,  5.5795e-01,\n",
      "           3.7113e-01, -3.7850e-01,  4.6865e-01, -6.0159e-01,  7.8300e-01,\n",
      "          -7.1271e-01,  5.7008e-01, -1.4594e-01, -4.7852e-01, -6.3930e-01,\n",
      "           1.3600e-01,  7.6170e-02,  6.7522e-01, -3.0819e-01, -2.8404e-01,\n",
      "           5.4695e-01, -1.3563e-01, -8.6967e-02,  8.2989e-01,  6.0077e-01,\n",
      "           3.7443e-01, -1.8381e-01,  5.0580e-01,  2.9500e-01,  4.9521e-01,\n",
      "           7.5313e-01,  5.8755e-01, -8.0028e-02,  4.7314e-01,  6.3771e-01,\n",
      "           6.3307e-01, -7.7861e-02,  8.6627e-01, -5.4453e-01,  5.3196e-01,\n",
      "           1.4097e+00,  9.8334e-02, -2.7750e-01, -8.9810e-01,  4.0777e-01,\n",
      "           6.9507e-01, -3.6530e-01, -8.5447e-02, -9.7791e-02, -1.3154e-01,\n",
      "           4.2114e-01, -2.3235e-01,  6.5811e-01,  1.3844e-01, -1.1849e+00,\n",
      "          -5.7115e-01,  4.2192e-02, -9.6343e-01,  2.3579e-01,  2.9616e-01,\n",
      "          -6.7821e-02, -9.4513e-02, -2.9683e-01, -2.6868e-01,  4.7267e-01,\n",
      "          -8.5617e-01, -6.5392e-02,  1.1342e+00,  4.7427e-01, -9.5189e-01,\n",
      "           2.0835e-01,  5.4952e-01, -3.8362e-01, -2.8907e-01, -9.1135e-01,\n",
      "           2.2554e-01,  7.1917e-02,  5.9663e-01, -4.0864e-01,  8.0474e-01,\n",
      "          -1.1961e+00,  9.6383e-02,  3.9599e-01,  1.2115e-01,  9.1135e-01,\n",
      "          -1.5842e-01, -1.2939e-01,  6.2641e-02, -1.6084e-01,  3.2993e-01,\n",
      "          -5.9934e-01,  2.4823e-02, -2.4848e-01,  7.6127e-01,  1.0621e+00,\n",
      "          -4.4590e-01,  4.0060e-01,  2.9552e-01, -2.1175e-01, -3.4272e-01,\n",
      "          -3.9282e-01,  8.9781e-01,  1.1839e-01, -1.2035e+00,  1.7170e-01,\n",
      "           5.5573e-01,  3.7621e-01,  4.6770e-01, -8.0107e-01,  7.3870e-02,\n",
      "           2.4114e-01, -1.8294e-01, -4.7113e-01, -6.3681e-02,  7.0638e-01,\n",
      "           4.0388e-02,  2.6998e-01, -4.5553e-03,  1.1880e+00, -9.1820e-01,\n",
      "           4.7203e-01, -1.2498e-01, -5.8260e-01,  6.6913e-01, -2.8687e-01,\n",
      "          -5.4272e-01,  8.7704e-01,  3.8535e-01, -1.4632e-01,  8.8456e-02,\n",
      "          -4.0051e-01,  5.8768e-01, -2.4192e-01,  2.3302e-01, -3.4219e-01,\n",
      "           8.5274e-01,  1.4088e-01, -1.5033e-02,  7.5627e-02,  1.1230e-01,\n",
      "           1.1149e+00, -3.0924e-01, -5.4655e-01, -6.2278e-02,  1.1348e+00,\n",
      "          -3.6592e-01,  4.0467e-01,  1.8757e-01,  2.0276e-01,  1.4426e-01,\n",
      "           1.2905e-01,  6.0133e-01,  4.9677e-02,  2.9107e-01, -2.1156e-01,\n",
      "          -1.0056e+00, -5.4477e-01,  7.5711e-01, -6.9659e-01,  1.9497e-01,\n",
      "          -4.5432e-01,  5.7954e-01,  8.1259e-01,  8.8723e-01,  3.6240e-02,\n",
      "          -7.3881e-01, -3.2738e-02, -2.3790e-01,  8.0596e-01,  7.6941e-01,\n",
      "           1.9495e-01, -6.2085e-01,  4.6856e-01, -3.4740e-01, -1.6962e-01,\n",
      "          -3.2938e-01, -2.1261e-01,  5.6307e-01,  3.8885e-01,  2.5948e-01,\n",
      "           9.4115e-01, -3.1908e-01, -1.3902e+00, -1.4343e-01,  4.1771e-01,\n",
      "           4.8529e-01, -7.3825e-01,  1.0694e-01, -5.5014e-01,  1.1426e+00,\n",
      "          -1.5757e+00,  4.5796e-01,  7.3803e-01,  9.9798e-02,  6.3316e-01,\n",
      "          -1.7893e-01, -6.0036e-02, -3.4310e-02,  1.2141e+00, -4.5021e-01,\n",
      "          -6.5312e-01,  6.2100e-01, -2.8545e-01, -5.4558e-01, -6.6380e-02,\n",
      "          -6.4547e-01, -1.1336e-01, -1.3498e-02, -4.7869e-01,  5.3069e-01,\n",
      "          -5.8267e-02, -4.5945e-01, -2.4800e-01,  2.5702e-01, -2.2241e-01,\n",
      "          -9.9488e-03, -1.8671e-01, -3.8214e-02,  3.7624e-01,  5.3302e-01,\n",
      "           1.7407e-01, -4.9670e-01, -4.4658e-01, -9.6274e-01,  2.8937e-02,\n",
      "           8.2214e-01, -6.8387e-01, -3.9455e-01, -3.0201e-01,  9.8886e-01,\n",
      "          -1.1181e+00,  1.0827e+00, -4.6659e-01, -5.4620e-01,  2.6944e-01,\n",
      "           3.1215e-01,  2.5810e-01, -1.5011e+00, -6.7562e-01,  1.6781e-01,\n",
      "           1.8361e-01,  5.6334e-01, -2.9729e-01,  8.1305e-01, -7.0952e-01,\n",
      "           8.8450e-02,  2.6366e-01,  2.5637e-01, -1.3041e+00,  2.8094e-01,\n",
      "           5.6854e-01,  1.7909e-02, -1.4404e-01, -5.7894e-01,  4.3580e-01,\n",
      "          -3.3317e-01,  2.7328e-01, -5.2609e-01,  2.2761e-01,  4.2323e-01,\n",
      "          -1.7801e-01, -4.0233e-01,  2.2013e-01, -6.7818e-01, -1.7154e-01,\n",
      "           1.1438e-01,  1.4379e-01, -1.4928e+00,  3.5775e-01, -4.0487e-01,\n",
      "           5.9227e-01, -1.5851e-01,  7.7499e-01, -2.0735e-01, -7.3842e-01,\n",
      "           2.0185e-01,  9.1917e-02, -2.6104e-01]]])\n"
     ]
    }
   ],
   "source": [
    "from transformers import BertTokenizer, BertModel\n",
    "import torch\n",
    "\n",
    "# Load pre-trained model tokenizer\n",
    "tokenizer = BertTokenizer.from_pretrained('bert-base-uncased')\n",
    "\n",
    "# Load pre-trained model\n",
    "model = BertModel.from_pretrained('bert-base-uncased')\n",
    "\n",
    "# Text to be tokenized\n",
    "text = \"strawberry\"\n",
    "\n",
    "# Encode text\n",
    "input_ids = tokenizer.encode(text, add_special_tokens=False)\n",
    "\n",
    "# Output the token IDs\n",
    "print(\"Token IDs:\", input_ids)\n",
    "\n",
    "# Convert token IDs back to raw tokens and output them\n",
    "raw_tokens = [tokenizer.decode([token_id]) for token_id in input_ids]\n",
    "print(\"Raw tokens:\", raw_tokens)\n",
    "\n",
    "# Convert list of IDs to a tensor\n",
    "input_ids_tensor = torch.tensor([input_ids])\n",
    "\n",
    "# Pass the input through the model\n",
    "with torch.no_grad():\n",
    "    outputs = model(input_ids_tensor)\n",
    "\n",
    "# Extract the embeddings\n",
    "embeddings = outputs.last_hidden_state\n",
    "\n",
    "# Print the embeddings\n",
    "print(\"Embeddings: \", embeddings)"
   ]
  },
  {
   "cell_type": "code",
   "execution_count": 10,
   "metadata": {},
   "outputs": [
    {
     "data": {
      "text/plain": [
       "torch.Size([1, 1, 768])"
      ]
     },
     "execution_count": 10,
     "metadata": {},
     "output_type": "execute_result"
    }
   ],
   "source": [
    "embeddings.shape"
   ]
  },
  {
   "cell_type": "markdown",
   "metadata": {},
   "source": [
    "### Describe Mountains?"
   ]
  },
  {
   "cell_type": "code",
   "execution_count": 4,
   "metadata": {},
   "outputs": [
    {
     "name": "stdout",
     "output_type": "stream",
     "text": [
      "Mount Everest, the highest peak in the world, stands at an elevation of 8,848.86 meters (29,031.7 feet) above sea level. Located in the Himalayas on the border between Nepal and Tibet, it attracts thousands of climbers each year, despite the extreme conditions and risks associated with its ascent. The mountain is also significant culturally, revered in local traditions and considered sacred by the Sherpa people.\n"
     ]
    }
   ],
   "source": [
    "from openai import OpenAI\n",
    "\n",
    "client = OpenAI()\n",
    "\n",
    "completion = client.chat.completions.create(\n",
    "    model=\"gpt-4o-mini\",\n",
    "    messages=[\n",
    "        {\"role\": \"user\", \"content\": \"Write 3 sentences about Mount Everest\"}\n",
    "    ],\n",
    "    seed=42\n",
    ")\n",
    "\n",
    "response = completion.choices[0].message.content\n",
    "print(response)"
   ]
  },
  {
   "cell_type": "markdown",
   "metadata": {},
   "source": [
    "Let's copy the response:\n",
    "\n",
    "```\n",
    "Mount Everest, the highest peak in the world, stands at an elevation of 8,848.86 meters (29,031.7 feet) above sea level. Located in the Himalayas on the border between Nepal and Tibet, it attracts thousands of climbers each year, including seasoned mountaineers and ambitious adventurers. Despite its allure, climbing Everest presents significant challenges, including extreme weather, high altitudes, and the risk of avalanches.\n",
    "```"
   ]
  },
  {
   "cell_type": "markdown",
   "metadata": {},
   "source": [
    "### Conclusions.\n",
    "\n",
    "\n",
    "**Further reading**\n",
    "- [Embedding tokens vs embedding string](https://community.openai.com/t/embedding-tokens-vs-embedding-strings/463213/5)\n",
    "- [BERT token vs embedding](https://stackoverflow.com/questions/77189885/bert-token-vs-embedding)\n",
    "- [Explained: Tokens and Embeddings in LLMs](https://medium.com/the-research-nest/explained-tokens-and-embeddings-in-llms-69a16ba5db33)"
   ]
  },
  {
   "cell_type": "markdown",
   "metadata": {},
   "source": []
  }
 ],
 "metadata": {
  "kernelspec": {
   "display_name": "venv",
   "language": "python",
   "name": "python3"
  },
  "language_info": {
   "codemirror_mode": {
    "name": "ipython",
    "version": 3
   },
   "file_extension": ".py",
   "mimetype": "text/x-python",
   "name": "python",
   "nbconvert_exporter": "python",
   "pygments_lexer": "ipython3",
   "version": "3.9.12"
  }
 },
 "nbformat": 4,
 "nbformat_minor": 2
}
